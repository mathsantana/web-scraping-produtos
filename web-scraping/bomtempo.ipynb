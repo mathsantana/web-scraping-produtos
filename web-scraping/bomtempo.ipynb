{
 "cells": [
  {
   "cell_type": "markdown",
   "metadata": {},
   "source": [
    "# Web Scraping - Bomtempo"
   ]
  },
  {
   "cell_type": "code",
   "execution_count": 39,
   "metadata": {},
   "outputs": [],
   "source": [
    "import time\n",
    "\n",
    "import undetected_chromedriver as uc\n",
    "\n",
    "from selenium.webdriver.remote.webdriver import By\n",
    "import selenium.webdriver.support.expected_conditions as EC  # noqa\n",
    "from selenium.webdriver.support.wait import WebDriverWait\n",
    "from selenium.common.exceptions import NoSuchElementException\n"
   ]
  },
  {
   "cell_type": "code",
   "execution_count": 4,
   "metadata": {},
   "outputs": [],
   "source": [
    "def set_viewport_size(driver, width, height):\n",
    "    window_size = driver.execute_script(\"\"\"\n",
    "        return [window.outerWidth - window.innerWidth + arguments[0],\n",
    "          window.outerHeight - window.innerHeight + arguments[1]];\n",
    "        \"\"\", width, height)\n",
    "    driver.set_window_size(*window_size)"
   ]
  },
  {
   "cell_type": "code",
   "execution_count": 5,
   "metadata": {},
   "outputs": [],
   "source": [
    "driver = uc.Chrome()\n",
    "set_viewport_size(driver, 400, 900)\n",
    "driver.get(\"https://loja.bontemposupermercados.com/Bontempo/mercearia-seca-59/\")"
   ]
  },
  {
   "cell_type": "code",
   "execution_count": 7,
   "metadata": {},
   "outputs": [],
   "source": [
    "menuCategoryBttn = driver.find_element(By.XPATH, \"/html/body/section[2]/div/div[1]/div[2]\")\n",
    "menuCategoryBttn.click()"
   ]
  },
  {
   "cell_type": "code",
   "execution_count": 27,
   "metadata": {},
   "outputs": [
    {
     "data": {
      "text/plain": [
       "['https://loja.bontemposupermercados.com/Bontempo/mercearia-seca-59/',\n",
       " 'https://loja.bontemposupermercados.com/Bontempo/bebidas-88/',\n",
       " 'https://loja.bontemposupermercados.com/Bontempo/pereciveis-85/',\n",
       " 'https://loja.bontemposupermercados.com/Bontempo/bonjour-158/',\n",
       " 'https://loja.bontemposupermercados.com/Bontempo/hortifruti-116/',\n",
       " 'https://loja.bontemposupermercados.com/Bontempo/mercearia-salgada-50/',\n",
       " 'https://loja.bontemposupermercados.com/Bontempo/mercearia-doce-47/',\n",
       " 'https://loja.bontemposupermercados.com/Bontempo/limpeza-3/',\n",
       " 'https://loja.bontemposupermercados.com/Bontempo/perfumaria-10/',\n",
       " 'https://loja.bontemposupermercados.com/Bontempo/cosmeticos-1/',\n",
       " 'https://loja.bontemposupermercados.com/Bontempo/suplementos-alimentares-517/',\n",
       " 'https://loja.bontemposupermercados.com/Bontempo/bazar-32/',\n",
       " 'https://loja.bontemposupermercados.com/Bontempo/eletro-123/']"
      ]
     },
     "execution_count": 27,
     "metadata": {},
     "output_type": "execute_result"
    }
   ],
   "source": [
    "categoriesLinks = []\n",
    "\n",
    "categoriesDivList = driver.find_elements(By.XPATH, \"/html/body/section[2]/div/div[2]/*\") \n",
    "\n",
    "for div in categoriesDivList:\n",
    "    link = div.find_element(By.TAG_NAME, \"a\").get_attribute(\"href\")\n",
    "    categoriesLinks.append(link)\n",
    "    \n",
    "categoriesLinks"
   ]
  },
  {
   "cell_type": "code",
   "execution_count": 41,
   "metadata": {},
   "outputs": [
    {
     "name": "stdout",
     "output_type": "stream",
     "text": [
      "{'name': 'Tapioca Amafil 500g Media', 'price': '7,69', 'link': 'https://loja.bontemposupermercados.com/Bontempo/produto/tapioca-amafil-500g-media-2205/', 'image': 'https://storage.googleapis.com/phygital_files/bontempo/uploads/produto/tapioca_amafil_500g_media_d833d537-c46d-438c-b033-69fc04122f4b.thumbnail.jpg'}\n",
      "{'name': 'Tapioca Amafil 500g Grossa', 'price': '7,69', 'link': 'https://loja.bontemposupermercados.com/Bontempo/produto/tapioca-amafil-500g-grossa-4341/', 'image': 'https://storage.googleapis.com/phygital_files/bontempo/uploads/produto/tapioca_amafil_500g_grossa_8ac104d0-6940-4159-b70d-f3d1a9c75208.thumbnail.jpg'}\n",
      "{'name': 'Sal Rn 1kg', 'price': '0,99', 'link': 'https://loja.bontemposupermercados.com/Bontempo/produto/sal-rn-1kg-204/', 'image': 'https://storage.googleapis.com/phygital_files/bontempo/uploads/produto/sal_rn_1kg_4b55046f-d64a-4575-a4f8-5cef867c8492.thumbnail.jpg'}\n",
      "{'name': 'Sal Master 1kg', 'price': '1,29', 'link': 'https://loja.bontemposupermercados.com/Bontempo/produto/sal-master-1kg-30653/', 'image': 'https://storage.googleapis.com/phygital_files/bontempo/uploads/produto/sal_master_1kg_b2ffd58e-7376-4653-bb53-afd5568750fa.thumbnail.png'}\n",
      "{'name': 'Sal Grosso Churrasco Rn 1kg', 'price': '1,69', 'link': 'https://loja.bontemposupermercados.com/Bontempo/produto/sal-grosso-churrasco-rn-1kg-611/', 'image': 'https://storage.googleapis.com/phygital_files/bontempo/uploads/produto/sal_grosso_churrasco_rn_1kg_cfa5bd78-ffa8-4614-b0e4-984a204e29fb.thumbnail.jpg'}\n",
      "{'name': 'Sagu Tapioca 500g Amafil', 'price': '9,99', 'link': 'https://loja.bontemposupermercados.com/Bontempo/produto/sagu-tapioca-500g-amafil-4546/', 'image': 'https://storage.googleapis.com/phygital_files/bontempo/uploads/produto/sagu_tapioca_500g_amafil_3d18883d-ecfe-4c7d-8ee9-70e4e3f5af98.thumbnail.jpg'}\n",
      "{'name': 'Quinoa Vermelha Kg Sem Casca', 'price': '55,59', 'link': 'https://loja.bontemposupermercados.com/Bontempo/produto/quinoa-vermelha-kg-sem-casca-10263/', 'image': 'https://storage.googleapis.com/phygital_files/bontempo/uploads/produto/quinoa_vermelha_kg_sem_casca_e911db74-45b3-4d13-be0e-d209b7894d99.thumbnail.jpg'}\n",
      "{'name': 'Polvilho Amafil 500g Azedo', 'price': '10,69', 'link': 'https://loja.bontemposupermercados.com/Bontempo/produto/polvilho-amafil-500g-azedo-2204/', 'image': 'https://storage.googleapis.com/phygital_files/bontempo/uploads/produto/polvilho_amafil_500g_azedo_2d7d3d42-9a27-4779-b1ea-c1219bc943ad.thumbnail.jpg'}\n",
      "{'name': 'Pipoca Premium Micro Yoki 50g Natural C/Sal', 'price': '3,99', 'link': 'https://loja.bontemposupermercados.com/Bontempo/produto/pipoca-premium-micro-yoki-50g-natural-csal-7673/', 'image': 'https://storage.googleapis.com/phygital_files/bontempo/uploads/produto/pipoca_premium_micro_yoki_50g_natural_c_sal_9888e6b3-7a95-4572-8659-94ec4c509529.thumbnail.jpg'}\n",
      "{'name': 'Pipoca Premium Micro Yoki 50g Manteiga', 'price': '2,89', 'link': 'https://loja.bontemposupermercados.com/Bontempo/produto/pipoca-premium-micro-yoki-50g-manteiga-7671/', 'image': 'https://storage.googleapis.com/phygital_files/bontempo/uploads/produto/pipoca_premium_micro_yoki_50g_manteiga_24cc62d6-b6b7-4a82-96ac-7f3685e84ab8.thumbnail.jpg'}\n",
      "{'name': 'Pipoca Micro Zaeli P Corn 100g Queijo', 'price': '2,25', 'link': 'https://loja.bontemposupermercados.com/Bontempo/produto/pipoca-micro-zaeli-p-corn-100g-queijo-27628/', 'image': 'https://storage.googleapis.com/phygital_files/bontempo/uploads/produto/pipoca_micro_zaeli_p_corn_100g_queijo_8acbb6dd-3727-403b-93d1-e9ee0979fb1c.thumbnail.png'}\n",
      "{'name': 'Pipoca Micro Yoki p Corn 100g Natural', 'price': '4,99', 'link': 'https://loja.bontemposupermercados.com/Bontempo/produto/pipoca-micro-yoki-p-corn-100g-natural-3469/', 'image': 'https://storage.googleapis.com/phygital_files/bontempo/uploads/produto/pipoca_micro_yoki_p_corn_100g_natural_96bf73e0-50fa-48e9-b617-c55f4af0edb0.thumbnail.jpg'}\n",
      "{'name': 'Pipoca Micro Yoki p Corn 100g Manteiga d', 'price': '4,99', 'link': 'https://loja.bontemposupermercados.com/Bontempo/produto/pipoca-micro-yoki-p-corn-100g-manteiga-d-3348/', 'image': 'https://storage.googleapis.com/phygital_files/bontempo/uploads/produto/pipoca_micro_yoki_p_corn_100g_manteiga_d_b8b512ff-970a-45a5-8bc0-8f881d9aef20.thumbnail.jpg'}\n",
      "{'name': 'Pipoca Micro Yoki p Corn 100g Mant', 'price': '4,99', 'link': 'https://loja.bontemposupermercados.com/Bontempo/produto/pipoca-micro-yoki-p-corn-100g-mant-114/', 'image': 'https://storage.googleapis.com/phygital_files/bontempo/uploads/produto/pipoca_micro_yoki_p_corn_100g_mant_6af438b6-3344-472d-ab18-4a347fc104ad.thumbnail.jpg'}\n",
      "{'name': 'Mungunza Vitamilho 500g', 'price': '3,19', 'link': 'https://loja.bontemposupermercados.com/Bontempo/produto/mungunza-vitamilho-500g-10180/', 'image': 'https://storage.googleapis.com/phygital_files/bontempo/uploads/produto/mungunza_vitamilho_500g_236dd8ee-d11f-406c-acda-299e34a6e058.thumbnail.jpg'}\n",
      "{'name': 'Mungunza d Clara 500g Am', 'price': '2,99', 'link': 'https://loja.bontemposupermercados.com/Bontempo/produto/mungunza-d-clara-500g-am-720/', 'image': 'https://storage.googleapis.com/phygital_files/bontempo/uploads/produto/mungunza_d_clara_500g_am_6a4bff0b-9803-46b2-be85-09a6e6cb44e0.thumbnail.png'}\n",
      "{'name': 'Milho Pipoca Yoki 500g Premium', 'price': '7,49', 'link': 'https://loja.bontemposupermercados.com/Bontempo/produto/milho-pipoca-yoki-500g-premium-5289/', 'image': 'https://storage.googleapis.com/phygital_files/bontempo/uploads/produto/milho_pipoca_yoki_500g_premium_0c0daca3-cba4-4c2b-adbf-7711879fef2e.thumbnail.jpg'}\n",
      "{'name': 'Milho Pipoca Yoki 500g', 'price': '5,49', 'link': 'https://loja.bontemposupermercados.com/Bontempo/produto/milho-pipoca-yoki-500g-3978/', 'image': 'https://storage.googleapis.com/phygital_files/bontempo/uploads/produto/milho_pipoca_yoki_500g_b0bf1134-2a45-4d01-a27f-39136f491f27.thumbnail.jpg'}\n",
      "{'name': 'Milho Pipoca Sta Clara Pulapula 500g', 'price': '4,59', 'link': 'https://loja.bontemposupermercados.com/Bontempo/produto/milho-pipoca-s-clara-pulapula-500g-551/', 'image': 'https://storage.googleapis.com/phygital_files/bontempo/uploads/produto/milho_pipoca_sta_clara_pulapula_500g_ed52ac94-d115-413e-94f5-181b897edb5e.thumbnail.png'}\n",
      "{'name': 'Milho Pipoca Sao Braz 500g', 'price': '4,99', 'link': 'https://loja.bontemposupermercados.com/Bontempo/produto/milho-pipoca-sao-braz-500g-2004/', 'image': 'https://storage.googleapis.com/phygital_files/bontempo/uploads/produto/milho_pipoca_sao_braz_500g_53ef68e5-a02a-4745-bfcf-7ae5e906e515.thumbnail.png'}\n"
     ]
    }
   ],
   "source": [
    "link = \"https://loja.bontemposupermercados.com/Bontempo/mercearia-seca-59/\"\n",
    "# for link in categoriesLinks:\n",
    "#driver.get(link)\n",
    "\n",
    "#time.sleep(2)\n",
    "\n",
    "productGrid = driver.find_elements(By.XPATH, \"/html/body/section[3]/div/div/div[1]/div[2]/*\")\n",
    "    \n",
    "for product in productGrid:\n",
    "\n",
    "    try:\n",
    "        mediaDiv = product.find_element(By.CSS_SELECTOR, \"div>div>div.media\")\n",
    "    except NoSuchElementException: \n",
    "        break\n",
    "\n",
    "    captionDiv = product.find_element(By.CSS_SELECTOR, \"div>div>div.caption\")\n",
    "\n",
    "    linkDiv = mediaDiv.find_element(By.TAG_NAME, \"a\")\n",
    "\n",
    "    name = captionDiv.find_element(By.CSS_SELECTOR, \"a.link-nome-produto > span.nome\").text\n",
    "    price = captionDiv.find_element(By.CSS_SELECTOR, \"div.detail > div.container-preco > input\").get_attribute(\"value\")\n",
    "    link = linkDiv.get_attribute(\"href\")\n",
    "    image = linkDiv.find_element(By.TAG_NAME, \"img\").get_attribute(\"data-src\")\n",
    "\n",
    "    print({\"name\": name, \"price\": price, \"link\": link, \"image\": image})\n",
    "\n",
    "# TODO: Implementar paginação (Utilizar params url + botão \"Próxima\")"
   ]
  }
 ],
 "metadata": {
  "kernelspec": {
   "display_name": "Python 3",
   "language": "python",
   "name": "python3"
  },
  "language_info": {
   "codemirror_mode": {
    "name": "ipython",
    "version": 3
   },
   "file_extension": ".py",
   "mimetype": "text/x-python",
   "name": "python",
   "nbconvert_exporter": "python",
   "pygments_lexer": "ipython3",
   "version": "3.11.5"
  },
  "orig_nbformat": 4
 },
 "nbformat": 4,
 "nbformat_minor": 2
}
